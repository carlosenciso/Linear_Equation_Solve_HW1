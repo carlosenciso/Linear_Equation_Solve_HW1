{
 "cells": [
  {
   "cell_type": "markdown",
   "metadata": {},
   "source": [
    "<div style=\"width: 100%; overflow: hidden;\">\n",
    "    <div style=\"width: 240px; float: left;\"> <img src=\"../IMG/icon1.png\" alt=\"Data For Science, Inc\" align=\"left\" border=\"0\"></div>\n",
    "    <div style=\"float: left; margin-left: 10px;\"> \n",
    "<h1><strong>Ingeniería de Sistemas & Python</strong></h1>\n",
    "<h1><strong>Homework 1</strong></h1>\n",
    "        <p><strong>Created by:</strong> Carlos Enciso Ojeda</p>\n",
    "        <strong>Atmopsheric and Climate Research</strong></br>\n",
    "        <strong>Last modified time: 2020-09-24 T10:00:14-05:00<strong><br>\n",
    "        <a href=\"https://github.com/carlosenciso/\">www.atmcenciso.com</a><br/>\n",
    "        <strong>Email:</strong> carlos.enciso.o@gmail.com | cenciso@senamhi.gob.pe</p></div>"
   ]
  },
  {
   "cell_type": "markdown",
   "metadata": {},
   "source": [
    "## **Import modules** "
   ]
  },
  {
   "cell_type": "code",
   "execution_count": 268,
   "metadata": {},
   "outputs": [],
   "source": [
    "from scipy import optimize\n",
    "import pandas as pd\n",
    "import numpy as np\n",
    "import matplotlib.pyplot as plt\n",
    "import os\n",
    "plt.style.use('ggplot')"
   ]
  },
  {
   "cell_type": "markdown",
   "metadata": {},
   "source": [
    "<h2><strong>Problema N° 1</strong><h2>"
   ]
  },
  {
   "cell_type": "code",
   "execution_count": 288,
   "metadata": {},
   "outputs": [],
   "source": [
    "obj = np.array([241, 3839, 11152, 2854, 2254, 208, 2728, 7458, 1124, 14644, 3799, 246, 1707, 6620, 377, 14463, 3060, 973])*-1"
   ]
  },
  {
   "cell_type": "markdown",
   "metadata": {},
   "source": [
    "### **Water** "
   ]
  },
  {
   "cell_type": "code",
   "execution_count": 289,
   "metadata": {},
   "outputs": [],
   "source": [
    "left_ineq_water = np.array([[1116, 789, 1051, 985, 789, 1248, 0, 0, 0, 592, 0, 592, 0, 656, 526, 0, 1445, 0],\n",
    "                            [1278, 903, 1202, 1127, 903, 1428, 601, 0, 601, 903, 0, 1127, 0, 1202, 903, 903, 1653, 0],\n",
    "                            [1564, 1103, 1472, 1381, 1103, 1748, 1287, 0, 1472, 1656, 0, 2024, 0, 1840, 1656, 1103, 2024, 0],\n",
    "                            [1632, 1153, 1537, 1441, 1153, 1825, 2017, 577, 1825, 2017, 0, 2017, 0, 2017, 1632, 1153, 2114, 768],\n",
    "                            [1954, 1379, 1838, 1724, 1379, 2184, 1954, 1608, 2300, 2300, 0, 575, 0, 1838, 1724, 1379, 2529, 1149],\n",
    "                            [2285, 1612, 2151, 2017, 1612, 2553, 1882, 2822, 1210, 1882, 1210, 1210, 1344, 1344, 0, 1612, 2956, 1612],\n",
    "                            [2230, 1575, 2099, 1969, 1575, 2493, 0, 2362, 0, 1180, 1836, 1969, 1575, 2099, 0, 0, 2886, 1836],\n",
    "                            [2287, 1614, 2153, 2018, 1614, 2557, 1077, 2153, 1077, 1614, 2423, 2960, 1884, 2691, 0, 0, 2960, 2153],\n",
    "                            [1974, 1393, 1858, 1743, 1393, 2208, 1627, 1278, 1858, 2092, 2324, 2439, 1858, 2439, 0, 0, 2555, 1393],\n",
    "                            [1414, 998, 1331, 1248, 998, 1579, 1746, 0, 1579, 1746, 998, 415, 1248, 1331, 0, 0, 1829, 0],\n",
    "                            [1096, 774, 1031, 967, 774, 1224, 1096, 0, 1289, 1289, 0, 0, 774, 0, 0, 0, 1417, 0],\n",
    "                            [1066, 752, 1004, 941, 752, 1191, 879, 0, 564, 879, 0, 0, 0, 0, 0, 0, 1381, 0]])\n",
    "\n",
    "right_ineq_water = np.array([4017600, 3888000, 4017600, 3888000, 4017600, 267840000, \n",
    "                             241920000, 267840000, 259200000, 4017600, 3888000, 4017600])"
   ]
  },
  {
   "cell_type": "markdown",
   "metadata": {},
   "source": [
    "### **Soil** "
   ]
  },
  {
   "cell_type": "code",
   "execution_count": 290,
   "metadata": {},
   "outputs": [],
   "source": [
    "left_ineq_soil = np.identity(18)\n",
    "right_ineq_soil = np.array([226, 307, 528, 307, 391, 66, 712, 325, 307, \n",
    "                            221, 294, 307, 184, 245, 97, 348, 294, 184])"
   ]
  },
  {
   "cell_type": "markdown",
   "metadata": {},
   "source": [
    "### **Concat Constraints** "
   ]
  },
  {
   "cell_type": "code",
   "execution_count": 291,
   "metadata": {},
   "outputs": [],
   "source": [
    "left_constraint = np.append(left_ineq_water,left_ineq_soil,axis=0)\n",
    "right_constraint = np.append(right_ineq_water,right_ineq_soil,axis=0)"
   ]
  },
  {
   "cell_type": "markdown",
   "metadata": {},
   "source": [
    "### **Bands** "
   ]
  },
  {
   "cell_type": "code",
   "execution_count": 292,
   "metadata": {},
   "outputs": [],
   "source": [
    "bnds = [(0,10682)]*18"
   ]
  },
  {
   "cell_type": "markdown",
   "metadata": {},
   "source": [
    "### **Optimization** "
   ]
  },
  {
   "cell_type": "code",
   "execution_count": 293,
   "metadata": {},
   "outputs": [],
   "source": [
    "opt = optimize.linprog(c=obj, A_ub=left_constraint, b_ub=right_constraint.T,bounds=bnds,method='revised simplex')"
   ]
  },
  {
   "cell_type": "code",
   "execution_count": 294,
   "metadata": {},
   "outputs": [
    {
     "name": "stdout",
     "output_type": "stream",
     "text": [
      "Maximizando es: 21907264.918781728\n"
     ]
    }
   ],
   "source": [
    "print(\"Maximizando es: {}\".format(abs(opt.fun)))"
   ]
  },
  {
   "cell_type": "code",
   "execution_count": 295,
   "metadata": {},
   "outputs": [
    {
     "name": "stdout",
     "output_type": "stream",
     "text": [
      "X1 : 0.0\n",
      "X2 : 307.0\n",
      "X3 : 528.0\n",
      "X4 : 307.0\n",
      "X5 : 96.74619289340109\n",
      "X6 : 0.0\n",
      "X7 : 0.0\n",
      "X8 : 325.0\n",
      "X9 : 0.0\n",
      "X10 : 221.0\n",
      "X11 : 294.0\n",
      "X12 : 0.0\n",
      "X13 : 184.0\n",
      "X14 : 245.0\n",
      "X15 : 0.0\n",
      "X16 : 348.0\n",
      "X17 : 0.0\n",
      "X18 : 0.0\n"
     ]
    }
   ],
   "source": [
    "for n,xi in enumerate(opt.x):\n",
    "    print('X{} : {}'.format(n+1,xi))"
   ]
  },
  {
   "cell_type": "markdown",
   "metadata": {},
   "source": [
    "<h2><strong>Problema N° 2</strong><h2>"
   ]
  },
  {
   "cell_type": "code",
   "execution_count": 296,
   "metadata": {},
   "outputs": [],
   "source": [
    "obj = np.array([241, 3839, 11152, 2854, 2254, 208, 2728, 1741, 8965, 2269, 15021, 4176, 14177, 5163, 522, 3071, 6620, 14463, 3060, 1118])*-1"
   ]
  },
  {
   "cell_type": "code",
   "execution_count": 297,
   "metadata": {},
   "outputs": [],
   "source": [
    "left_ineq_water = np.array([[1116, 789, 1051, 985, 789, 1248, 0, 0, 1051, 0, 592, 789, 789, 919, 592, 0, 656, 0, 1445, 1445],\n",
    "                            [1278, 903, 1202, 1127, 903, 1428, 601, 601, 1127, 601, 903, 1353, 1353, 1577, 1127, 601, 1202, 903, 1653, 1577],\n",
    "                            [1564, 1103, 1472, 1381, 1103, 1748, 1287, 1287, 1103, 1472, 1656, 1564, 1932, 1564, 2024, 1287, 1840, 1103, 2024,460],\n",
    "                            [1632, 1153, 1537, 1441, 1153, 1825, 2017, 2017, 577, 1825, 2017, 1441, 1921, 1346, 2017, 2017, 2017, 1153, 2114, 768],\n",
    "                            [1954, 1379, 1838, 1724, 1379, 2184, 1954, 1954, 1608, 2300, 2300, 0, 1608, 0, 575, 1954, 1838, 1379, 2529, 1149],\n",
    "                            [2285, 1612, 2151, 2017, 1612, 2553, 1882, 1882, 2822, 1210, 1882, 1210, 1210, 1210, 0, 1882, 1344, 1612, 2956, 1612],\n",
    "                            [2230, 1575, 2099, 1969, 1575, 2493, 0, 0, 2362, 1313, 0, 1836, 1836, 1836, 1050, 1313, 2099, 0, 2886, 1836],\n",
    "                            [2287, 1614, 2153, 2018, 1614, 2557, 1077, 1077, 2153, 1614, 1077, 2423, 2423, 2423, 1614, 1614, 2691, 0, 2960, 2153],\n",
    "                            [1974, 1393, 1858, 1743, 1393, 2208, 1627, 1393, 1278, 1627, 1393, 2324, 2324, 2324, 2092, 1627, 2439, 0, 2555, 1393],\n",
    "                            [1414, 998, 1331, 1248, 998, 1579, 1746, 1496, 831, 1331, 1496, 998, 998, 998, 1414, 1331, 1331, 0, 1829, 0],\n",
    "                            [1096, 774, 1031, 967, 774, 1224, 1096, 1096, 774, 967, 1096, 0, 0, 0, 967, 967, 0, 0, 1417, 581],\n",
    "                            [1066, 752, 1004, 941, 752, 1191, 879, 941, 879, 752, 941, 502, 564, 502, 0, 752, 0, 0, 1381, 941]])\n",
    "\n",
    "right_ineq_water = np.array([4017600, 3888000, 4017600, 3888000, 4017600, 267840000, \n",
    "                             241920000, 267840000, 259200000, 4017600, 3888000, 4017600])"
   ]
  },
  {
   "cell_type": "markdown",
   "metadata": {},
   "source": [
    "### **Soil** "
   ]
  },
  {
   "cell_type": "code",
   "execution_count": 298,
   "metadata": {},
   "outputs": [],
   "source": [
    "left_ineq_soil = np.identity(20)\n",
    "right_ineq_soil = np.array([226, 307, 528, 307, 391, 66, 615, 97, 325, 307, \n",
    "                            221, 129, 129, 129, 307, 184, 245, 348, 294, 184]) "
   ]
  },
  {
   "cell_type": "markdown",
   "metadata": {},
   "source": [
    "### **Concat Constraints** "
   ]
  },
  {
   "cell_type": "code",
   "execution_count": 299,
   "metadata": {},
   "outputs": [],
   "source": [
    "left_constraint = np.append(left_ineq_water,left_ineq_soil,axis=0)\n",
    "right_constraint = np.append(right_ineq_water,right_ineq_soil,axis=0)"
   ]
  },
  {
   "cell_type": "markdown",
   "metadata": {},
   "source": [
    "### **Bands** "
   ]
  },
  {
   "cell_type": "code",
   "execution_count": 300,
   "metadata": {},
   "outputs": [],
   "source": [
    "bnds = [(0,10682)]*20"
   ]
  },
  {
   "cell_type": "markdown",
   "metadata": {},
   "source": [
    "### **Optimization** "
   ]
  },
  {
   "cell_type": "code",
   "execution_count": 301,
   "metadata": {},
   "outputs": [],
   "source": [
    "opt = optimize.linprog(c=obj, A_ub=left_constraint, b_ub=right_constraint,bounds=bnds,method='revised simplex')"
   ]
  },
  {
   "cell_type": "code",
   "execution_count": 302,
   "metadata": {},
   "outputs": [
    {
     "name": "stdout",
     "output_type": "stream",
     "text": [
      "Maximizando es: 23742326.06612529\n"
     ]
    }
   ],
   "source": [
    "print(\"Maximizando es: {}\".format(abs(opt.fun)))"
   ]
  },
  {
   "cell_type": "code",
   "execution_count": 303,
   "metadata": {},
   "outputs": [
    {
     "name": "stdout",
     "output_type": "stream",
     "text": [
      "X1 : 0.0\n",
      "X2 : 307.0\n",
      "X3 : 528.0\n",
      "X4 : 264.0655452436195\n",
      "X5 : 0.0\n",
      "X6 : 0.0\n",
      "X7 : 0.0\n",
      "X8 : 0.0\n",
      "X9 : 325.0\n",
      "X10 : 0.0\n",
      "X11 : 220.99999999999997\n",
      "X12 : 129.0\n",
      "X13 : 129.0\n",
      "X14 : 129.0\n",
      "X15 : 0.0\n",
      "X16 : 0.0\n",
      "X17 : 245.0\n",
      "X18 : 348.0\n",
      "X19 : 0.0\n",
      "X20 : 0.0\n"
     ]
    }
   ],
   "source": [
    "for n,xi in enumerate(opt.x):\n",
    "    print('X{} : {}'.format(n+1,xi))"
   ]
  }
 ],
 "metadata": {
  "kernelspec": {
   "display_name": "pangeo",
   "language": "python",
   "name": "pangeo"
  },
  "language_info": {
   "codemirror_mode": {
    "name": "ipython",
    "version": 3
   },
   "file_extension": ".py",
   "mimetype": "text/x-python",
   "name": "python",
   "nbconvert_exporter": "python",
   "pygments_lexer": "ipython3",
   "version": "3.8.6"
  }
 },
 "nbformat": 4,
 "nbformat_minor": 4
}
